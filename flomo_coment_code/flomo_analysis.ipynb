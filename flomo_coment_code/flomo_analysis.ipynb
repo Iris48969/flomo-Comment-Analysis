{
 "cells": [
  {
   "cell_type": "code",
   "execution_count": 16,
   "id": "7cb4c1d9",
   "metadata": {},
   "outputs": [],
   "source": [
    "import pandas as pd \n",
    "import numpy as np"
   ]
  },
  {
   "cell_type": "code",
   "execution_count": 17,
   "id": "c0097fbb",
   "metadata": {},
   "outputs": [
    {
     "data": {
      "text/html": [
       "<div>\n",
       "<style scoped>\n",
       "    .dataframe tbody tr th:only-of-type {\n",
       "        vertical-align: middle;\n",
       "    }\n",
       "\n",
       "    .dataframe tbody tr th {\n",
       "        vertical-align: top;\n",
       "    }\n",
       "\n",
       "    .dataframe thead th {\n",
       "        text-align: right;\n",
       "    }\n",
       "</style>\n",
       "<table border=\"1\" class=\"dataframe\">\n",
       "  <thead>\n",
       "    <tr style=\"text-align: right;\">\n",
       "      <th></th>\n",
       "      <th>comment_id</th>\n",
       "      <th>create_time</th>\n",
       "      <th>ip_location</th>\n",
       "      <th>note_id</th>\n",
       "      <th>content</th>\n",
       "      <th>user_id</th>\n",
       "      <th>nickname</th>\n",
       "      <th>avatar</th>\n",
       "      <th>sub_comment_count</th>\n",
       "      <th>pictures</th>\n",
       "      <th>parent_comment_id</th>\n",
       "      <th>last_modify_ts</th>\n",
       "      <th>like_count</th>\n",
       "    </tr>\n",
       "  </thead>\n",
       "  <tbody>\n",
       "    <tr>\n",
       "      <th>0</th>\n",
       "      <td>68eb404500000000380293b5</td>\n",
       "      <td>1760247878000</td>\n",
       "      <td>新疆</td>\n",
       "      <td>68ea0b460000000003010908</td>\n",
       "      <td>1、你持续数年的自我对话本身也是一种行动。ai错了。2、质疑是科学精神的内核，质疑本身没错。...</td>\n",
       "      <td>62c6d4b3000000000303df86</td>\n",
       "      <td>伊布司机</td>\n",
       "      <td>https://sns-avatar-qc.xhscdn.com/avatar/1040g2...</td>\n",
       "      <td>444</td>\n",
       "      <td>NaN</td>\n",
       "      <td>0</td>\n",
       "      <td>1760879462285</td>\n",
       "      <td>8460</td>\n",
       "    </tr>\n",
       "  </tbody>\n",
       "</table>\n",
       "</div>"
      ],
      "text/plain": [
       "                 comment_id    create_time ip_location  \\\n",
       "0  68eb404500000000380293b5  1760247878000          新疆   \n",
       "\n",
       "                    note_id  \\\n",
       "0  68ea0b460000000003010908   \n",
       "\n",
       "                                             content  \\\n",
       "0  1、你持续数年的自我对话本身也是一种行动。ai错了。2、质疑是科学精神的内核，质疑本身没错。...   \n",
       "\n",
       "                    user_id nickname  \\\n",
       "0  62c6d4b3000000000303df86     伊布司机   \n",
       "\n",
       "                                              avatar  sub_comment_count  \\\n",
       "0  https://sns-avatar-qc.xhscdn.com/avatar/1040g2...                444   \n",
       "\n",
       "  pictures  parent_comment_id  last_modify_ts  like_count  \n",
       "0      NaN                  0   1760879462285        8460  "
      ]
     },
     "execution_count": 17,
     "metadata": {},
     "output_type": "execute_result"
    }
   ],
   "source": [
    "data = pd.read_excel(\"search_comments_2025-10-19.xlsx\")\n",
    "data.head(1)"
   ]
  },
  {
   "cell_type": "code",
   "execution_count": 18,
   "id": "9867aa6c",
   "metadata": {},
   "outputs": [
    {
     "name": "stdout",
     "output_type": "stream",
     "text": [
      "<class 'pandas.core.frame.DataFrame'>\n",
      "RangeIndex: 910 entries, 0 to 909\n",
      "Data columns (total 13 columns):\n",
      " #   Column             Non-Null Count  Dtype \n",
      "---  ------             --------------  ----- \n",
      " 0   comment_id         910 non-null    object\n",
      " 1   create_time        910 non-null    int64 \n",
      " 2   ip_location        78 non-null     object\n",
      " 3   note_id            910 non-null    object\n",
      " 4   content            904 non-null    object\n",
      " 5   user_id            910 non-null    object\n",
      " 6   nickname           907 non-null    object\n",
      " 7   avatar             910 non-null    object\n",
      " 8   sub_comment_count  910 non-null    int64 \n",
      " 9   pictures           59 non-null     object\n",
      " 10  parent_comment_id  910 non-null    int64 \n",
      " 11  last_modify_ts     910 non-null    int64 \n",
      " 12  like_count         910 non-null    int64 \n",
      "dtypes: int64(5), object(8)\n",
      "memory usage: 92.6+ KB\n"
     ]
    }
   ],
   "source": [
    "#数据的内容\n",
    "data.info()"
   ]
  },
  {
   "cell_type": "code",
   "execution_count": 19,
   "id": "1d14f841",
   "metadata": {},
   "outputs": [
    {
     "data": {
      "text/plain": [
       "comment_id            0.000000\n",
       "create_time           0.000000\n",
       "ip_location          91.428571\n",
       "note_id               0.000000\n",
       "content               0.659341\n",
       "user_id               0.000000\n",
       "nickname              0.329670\n",
       "avatar                0.000000\n",
       "sub_comment_count     0.000000\n",
       "pictures             93.516484\n",
       "parent_comment_id     0.000000\n",
       "last_modify_ts        0.000000\n",
       "like_count            0.000000\n",
       "dtype: float64"
      ]
     },
     "execution_count": 19,
     "metadata": {},
     "output_type": "execute_result"
    }
   ],
   "source": [
    "# 查找缺失值\n",
    "missing_value = data.isnull().sum()/len(data)*100\n",
    "# ip_location 和 pictures缺失值多，删除这两列\n",
    "# 由于已经存在user_id, nickname可以考虑删除·\n",
    "missing_value"
   ]
  },
  {
   "cell_type": "code",
   "execution_count": 20,
   "id": "894ac09d",
   "metadata": {},
   "outputs": [],
   "source": [
    "#删除相关性低且缺失值大的列\n",
    "data.columns = data.columns.str.strip()\n",
    "needs_columns = [\"comment_id\", \"create_time\", \"note_id\", \"content\", \"user_id\", \"sub_comment_count\", \"like_count\"]\n",
    "data = data[needs_columns]"
   ]
  },
  {
   "cell_type": "code",
   "execution_count": 21,
   "id": "51d502d9",
   "metadata": {},
   "outputs": [
    {
     "name": "stdout",
     "output_type": "stream",
     "text": [
      "删除空值后剩余行数: 904\n"
     ]
    }
   ],
   "source": [
    "#删除有空值的行\n",
    "data = data.dropna().reset_index(drop=True)\n",
    "print(f'删除空值后剩余行数: {len(data)}')"
   ]
  },
  {
   "cell_type": "code",
   "execution_count": null,
   "id": "9f74f7b9",
   "metadata": {},
   "outputs": [
    {
     "name": "stdout",
     "output_type": "stream",
     "text": [
      "列 ['user_id', 'content'] 标记为重复的行数: 40\n",
      "出现次数大于1的值及其次数：\n",
      "user_id                   content                                                                                              \n",
      "5678e7ea4476082aec5da222  刚去试了一下 我滴乖乖。这么牛的嘛。已经安利给群里姐妹们了？[偷笑R][偷笑R][偷笑R]                                                            2\n",
      "5dd0d673000000000100ab08  @池早 这个好  像我之前往自己的聊天框的记录  因为微信卸载啥都没了呜呜                                                                    2\n",
      "5ae1972ee8ac2b52a71bbc4c  请问能不能导入以前在别的的软件写日记🥺                                                                                      2\n",
      "5ae3e84c4eacab6c07dbbe08  就等这个了，帮我再进一步                                                                                             2\n",
      "5481caefd6e4a97d79e046cb  需要会员吗？                                                                                                   2\n",
      "5d8ae7e8000000000101a198  想问一下有没有云保存啊                                                                                              2\n",
      "5e92fdda0000000001008294  “么有这个钱”好笑又有点心酸[笑哭R]                                                                                      2\n",
      "5df4efa90000000001009e29  刚试用了一下，问一下那个思考过程能不要显示吗？感觉会出戏                                                                             2\n",
      "59cd09b2de5fb45160e2bd94  能不能帮我整理标签[笑哭R]实在是太多太多了，导致现在每写一条如果不主动去看就石沉大海了[捂脸R]                                                        2\n",
      "5bd1d28cef6d1f00010478f4  姐妹开会员了吗                                                                                                  2\n",
      "5c72b3c50000000012021cb9  我也是喜欢记录各种！那太适合我天了，一直在找这种软件。                                                                              2\n",
      "5b59d13ef7e8b971c6c6b634  期待住了[大笑R]                                                                                                2\n",
      "5573de153397db4eb21b654a  修改笔记提示 memo not found 是什么原因呢？                                                                            2\n",
      "5c36a76100000000050339da  我最喜欢洞察报告了，更明确了我的想法，并给我指出一条新思路[赞R]                                                                        2\n",
      "5ad9783ce8ac2b0de920771c  这个软件是私密的哇 不会泄露东西吧                                                                                        2\n",
      "5d1e2ab8000000001603572d  有隐私风险吗                                                                                                   2\n",
      "591456c55e87e70cf68f8b93  请问怎么批量恢复标签呀 一不小心错删标签了                                                                                    2\n",
      "5d0078d0000000001601d4bb  我的好閨蜜[飞吻R][飞吻R][飞吻R]                                                                                     2\n",
      "5f3c0d94000000000100ab8a  我很需要但是感觉有点贵[哭惹R][哭惹R][哭惹R]                                                                               2\n",
      "5f4538ee0000000001002179  而且尤其适合发散思考的朋友                                                                                            2\n",
      "5f7907f5000000000100185f  ai洞察，我将永远拥护你[黄金薯R][黄金薯R]                                                                                 2\n",
      "603b0e2700000000010015cd  鸿蒙版本什么时候上线呀[哭惹R]                                                                                         2\n",
      "6060381c000000000100a873  flomo的官方mcp什么时候上[偷笑R]                                                                                    2\n",
      "60d4551e000000000101ff6c  [笑哭R]                                                                                                    2\n",
      "612396e4000000000101f54a  昨天用上了， AI洞察好像是在和老朋友聊天，内容似曾相识，也会有新的东西浮现，唯一可惜的是这个老朋友三缄其口不愿多说，”克制“也许是flomo难能可贵的优点!                          2\n",
      "616b6a760000000002019eb8  盼回[哭惹R][哭惹R][哭惹R][飞吻R]                                                                                   2\n",
      "62cb8489000000001902fbf6  [偷笑R]                                                                                                    2\n",
      "633a58a6000000001901eebd  啊啊啊电脑桌面版这两天bug了，新打开的小窗口没办法编辑了，前两天都可以的，怎么回事呀[哭惹R]                                                         2\n",
      "634bbfec000000001802b71b  一个人只能一天用2次么                                                                                              2\n",
      "                          怎么用ai洞察啊                                                                                                 2\n",
      "6382c880000000001f018c88  求鸿蒙                                                                                                      2\n",
      "64a3902d000000002a0370b6  教育优惠是实时到账吗 @flomo浮墨笔记                                                                                    2\n",
      "64c493f40000000025034a17  初始注册账号的电话号码弃用已收不到验证码，如何更换电话号码呢？                                                                          2\n",
      "6509ce240000000012007988  最新版，我是会员，为什么没有ai洞察功能呢                                                                                    2\n",
      "652f3a23000000002b000807  想要图文混排，可以实现吗                                                                                             2\n",
      "6652ea300000000007006a83  可以开永久会员吗                                                                                                 2\n",
      "6655bab00000000003031db3  刚  收到一条浮墨科技6位数的登陆验证码，不知道是别人填错电话，还是账号信息泄露。打开软件想找安全设置，发现，没有！！！建议搞个登陆设备绑定啊，风险登陆要验证之类的啊。我几千条笔记，丢了，那可就完蛋了。    2\n",
      "665ee3f70000000007005847  有共享的功能吗？企业可以同时使用的[萌萌哒R][萌萌哒R][萌萌哒R][萌萌哒R]                                                                2\n",
      "66695eee000000000700443e  为什么我无法注册 [笑哭R][笑哭R][笑哭R][笑哭R][笑哭R]                                                                       2\n",
      "6677d14300000000030315c5  能不能加一个往年今日的功能，真的很想看看自己每年这个时候发了什么                                                                         2\n",
      "Name: count, dtype: int64\n"
     ]
    },
    {
     "data": {
      "text/html": [
       "<div>\n",
       "<style scoped>\n",
       "    .dataframe tbody tr th:only-of-type {\n",
       "        vertical-align: middle;\n",
       "    }\n",
       "\n",
       "    .dataframe tbody tr th {\n",
       "        vertical-align: top;\n",
       "    }\n",
       "\n",
       "    .dataframe thead th {\n",
       "        text-align: right;\n",
       "    }\n",
       "</style>\n",
       "<table border=\"1\" class=\"dataframe\">\n",
       "  <thead>\n",
       "    <tr style=\"text-align: right;\">\n",
       "      <th></th>\n",
       "      <th>user_id</th>\n",
       "      <th>content</th>\n",
       "      <th>count</th>\n",
       "    </tr>\n",
       "  </thead>\n",
       "  <tbody>\n",
       "    <tr>\n",
       "      <th>0</th>\n",
       "      <td>5678e7ea4476082aec5da222</td>\n",
       "      <td>刚去试了一下 我滴乖乖。这么牛的嘛。已经安利给群里姐妹们了？[偷笑R][偷笑R][偷笑R]</td>\n",
       "      <td>2</td>\n",
       "    </tr>\n",
       "    <tr>\n",
       "      <th>1</th>\n",
       "      <td>5dd0d673000000000100ab08</td>\n",
       "      <td>@池早 这个好  像我之前往自己的聊天框的记录  因为微信卸载啥都没了呜呜</td>\n",
       "      <td>2</td>\n",
       "    </tr>\n",
       "    <tr>\n",
       "      <th>2</th>\n",
       "      <td>5ae1972ee8ac2b52a71bbc4c</td>\n",
       "      <td>请问能不能导入以前在别的的软件写日记🥺</td>\n",
       "      <td>2</td>\n",
       "    </tr>\n",
       "    <tr>\n",
       "      <th>3</th>\n",
       "      <td>5ae3e84c4eacab6c07dbbe08</td>\n",
       "      <td>就等这个了，帮我再进一步</td>\n",
       "      <td>2</td>\n",
       "    </tr>\n",
       "    <tr>\n",
       "      <th>4</th>\n",
       "      <td>5481caefd6e4a97d79e046cb</td>\n",
       "      <td>需要会员吗？</td>\n",
       "      <td>2</td>\n",
       "    </tr>\n",
       "  </tbody>\n",
       "</table>\n",
       "</div>"
      ],
      "text/plain": [
       "                    user_id                                        content  \\\n",
       "0  5678e7ea4476082aec5da222  刚去试了一下 我滴乖乖。这么牛的嘛。已经安利给群里姐妹们了？[偷笑R][偷笑R][偷笑R]   \n",
       "1  5dd0d673000000000100ab08          @池早 这个好  像我之前往自己的聊天框的记录  因为微信卸载啥都没了呜呜   \n",
       "2  5ae1972ee8ac2b52a71bbc4c                            请问能不能导入以前在别的的软件写日记🥺   \n",
       "3  5ae3e84c4eacab6c07dbbe08                                   就等这个了，帮我再进一步   \n",
       "4  5481caefd6e4a97d79e046cb                                         需要会员吗？   \n",
       "\n",
       "   count  \n",
       "0      2  \n",
       "1      2  \n",
       "2      2  \n",
       "3      2  \n",
       "4      2  "
      ]
     },
     "execution_count": 24,
     "metadata": {},
     "output_type": "execute_result"
    }
   ],
   "source": [
    "# 检查用户与content是否有重复值\n",
    "col = ['user_id','content']\n",
    "\n",
    "# 重复值数量（被标记为重复的行数）\n",
    "dup_rows = data[col].duplicated().sum()\n",
    "print(f\"列 {col} 标记为重复的行数: {dup_rows}\")\n",
    "\n",
    "# 查看哪些具体的值出现了多次（以及出现次数）\n",
    "vc = data[col].value_counts()\n",
    "print('出现次数大于1的值及其次数：')\n",
    "print(vc[vc > 1])\n"
   ]
  },
  {
   "cell_type": "markdown",
   "id": "7ea3e0c7",
   "metadata": {},
   "source": []
  },
  {
   "cell_type": "code",
   "execution_count": 11,
   "id": "a4e91227",
   "metadata": {},
   "outputs": [
    {
     "name": "stdout",
     "output_type": "stream",
     "text": [
      "去重后剩余行数: 864\n"
     ]
    },
    {
     "data": {
      "text/html": [
       "<div>\n",
       "<style scoped>\n",
       "    .dataframe tbody tr th:only-of-type {\n",
       "        vertical-align: middle;\n",
       "    }\n",
       "\n",
       "    .dataframe tbody tr th {\n",
       "        vertical-align: top;\n",
       "    }\n",
       "\n",
       "    .dataframe thead th {\n",
       "        text-align: right;\n",
       "    }\n",
       "</style>\n",
       "<table border=\"1\" class=\"dataframe\">\n",
       "  <thead>\n",
       "    <tr style=\"text-align: right;\">\n",
       "      <th></th>\n",
       "      <th>comment_id</th>\n",
       "      <th>create_time</th>\n",
       "      <th>note_id</th>\n",
       "      <th>content</th>\n",
       "      <th>user_id</th>\n",
       "      <th>sub_comment_count</th>\n",
       "      <th>like_count</th>\n",
       "    </tr>\n",
       "  </thead>\n",
       "  <tbody>\n",
       "    <tr>\n",
       "      <th>0</th>\n",
       "      <td>68eb404500000000380293b5</td>\n",
       "      <td>1760247878000</td>\n",
       "      <td>68ea0b460000000003010908</td>\n",
       "      <td>1、你持续数年的自我对话本身也是一种行动。ai错了。2、质疑是科学精神的内核，质疑本身没错。...</td>\n",
       "      <td>62c6d4b3000000000303df86</td>\n",
       "      <td>444</td>\n",
       "      <td>8460</td>\n",
       "    </tr>\n",
       "    <tr>\n",
       "      <th>1</th>\n",
       "      <td>68ef004d0000000039007c56</td>\n",
       "      <td>1760493646000</td>\n",
       "      <td>68ea0b460000000003010908</td>\n",
       "      <td>评论区让我放心了，人类不会被AI取代。[笑哭R]当人们出现迷茫或者对事物有不清楚的认知时，会...</td>\n",
       "      <td>6196655a0000000010008eac</td>\n",
       "      <td>12</td>\n",
       "      <td>590</td>\n",
       "    </tr>\n",
       "    <tr>\n",
       "      <th>2</th>\n",
       "      <td>68ef702700000000370128a9</td>\n",
       "      <td>1760522281000</td>\n",
       "      <td>68ea0b460000000003010908</td>\n",
       "      <td>别太把ai的评价当回事儿，ai说我特别有哲学思维，很有洞见，总之就是很牛逼。给你看一下我导师...</td>\n",
       "      <td>5927beea50c4b47e9573156a</td>\n",
       "      <td>16</td>\n",
       "      <td>478</td>\n",
       "    </tr>\n",
       "    <tr>\n",
       "      <th>3</th>\n",
       "      <td>68f014080000000039024c38</td>\n",
       "      <td>1760564232000</td>\n",
       "      <td>68ea0b460000000003010908</td>\n",
       "      <td>很同意此刻的最高赞，列出了六条有逻辑、循序渐进的comment。很高兴看到作者也很赞成。但是...</td>\n",
       "      <td>6107f95e000000000100b2d6</td>\n",
       "      <td>3</td>\n",
       "      <td>151</td>\n",
       "    </tr>\n",
       "    <tr>\n",
       "      <th>4</th>\n",
       "      <td>68efd60700000000380125bb</td>\n",
       "      <td>1760548360000</td>\n",
       "      <td>68ea0b460000000003010908</td>\n",
       "      <td>人们什么时候才能明白，ai只是你给出的信息的镜子，而不是你这个人完整的本身。</td>\n",
       "      <td>5c62f55f000000001202c238</td>\n",
       "      <td>2</td>\n",
       "      <td>146</td>\n",
       "    </tr>\n",
       "  </tbody>\n",
       "</table>\n",
       "</div>"
      ],
      "text/plain": [
       "                 comment_id    create_time                   note_id  \\\n",
       "0  68eb404500000000380293b5  1760247878000  68ea0b460000000003010908   \n",
       "1  68ef004d0000000039007c56  1760493646000  68ea0b460000000003010908   \n",
       "2  68ef702700000000370128a9  1760522281000  68ea0b460000000003010908   \n",
       "3  68f014080000000039024c38  1760564232000  68ea0b460000000003010908   \n",
       "4  68efd60700000000380125bb  1760548360000  68ea0b460000000003010908   \n",
       "\n",
       "                                             content  \\\n",
       "0  1、你持续数年的自我对话本身也是一种行动。ai错了。2、质疑是科学精神的内核，质疑本身没错。...   \n",
       "1  评论区让我放心了，人类不会被AI取代。[笑哭R]当人们出现迷茫或者对事物有不清楚的认知时，会...   \n",
       "2  别太把ai的评价当回事儿，ai说我特别有哲学思维，很有洞见，总之就是很牛逼。给你看一下我导师...   \n",
       "3  很同意此刻的最高赞，列出了六条有逻辑、循序渐进的comment。很高兴看到作者也很赞成。但是...   \n",
       "4             人们什么时候才能明白，ai只是你给出的信息的镜子，而不是你这个人完整的本身。   \n",
       "\n",
       "                    user_id  sub_comment_count  like_count  \n",
       "0  62c6d4b3000000000303df86                444        8460  \n",
       "1  6196655a0000000010008eac                 12         590  \n",
       "2  5927beea50c4b47e9573156a                 16         478  \n",
       "3  6107f95e000000000100b2d6                  3         151  \n",
       "4  5c62f55f000000001202c238                  2         146  "
      ]
     },
     "execution_count": 11,
     "metadata": {},
     "output_type": "execute_result"
    }
   ],
   "source": [
    "# 删除 content 列中重复的评论，只保留第一次出现的\n",
    "data = data.drop_duplicates(subset=['content'], keep='first').reset_index(drop=True)\n",
    "print(f'去重后剩余行数: {len(data)}')\n",
    "data.head()"
   ]
  },
  {
   "cell_type": "code",
   "execution_count": null,
   "id": "b610bcd9",
   "metadata": {},
   "outputs": [
    {
     "name": "stdout",
     "output_type": "stream",
     "text": [
      "列 ['user_id'] 标记为重复的行数: 95\n",
      "出现次数大于1的值及其次数：\n",
      "user_id                 \n",
      "60e3ff1700000000200261e8    12\n",
      "634bbfec000000001802b71b     4\n",
      "603b0e2700000000010015cd     3\n",
      "5c5ed45800000000100005f1     3\n",
      "5678e7ea4476082aec5da222     3\n",
      "                            ..\n",
      "6652ea300000000007006a83     2\n",
      "6655bab00000000003031db3     2\n",
      "665ee3f70000000007005847     2\n",
      "66695eee000000000700443e     2\n",
      "6677d14300000000030315c5     2\n",
      "Name: count, Length: 72, dtype: int64\n"
     ]
    },
    {
     "data": {
      "text/html": [
       "<div>\n",
       "<style scoped>\n",
       "    .dataframe tbody tr th:only-of-type {\n",
       "        vertical-align: middle;\n",
       "    }\n",
       "\n",
       "    .dataframe tbody tr th {\n",
       "        vertical-align: top;\n",
       "    }\n",
       "\n",
       "    .dataframe thead th {\n",
       "        text-align: right;\n",
       "    }\n",
       "</style>\n",
       "<table border=\"1\" class=\"dataframe\">\n",
       "  <thead>\n",
       "    <tr style=\"text-align: right;\">\n",
       "      <th></th>\n",
       "      <th>user_id</th>\n",
       "      <th>count</th>\n",
       "    </tr>\n",
       "  </thead>\n",
       "  <tbody>\n",
       "    <tr>\n",
       "      <th>0</th>\n",
       "      <td>60e3ff1700000000200261e8</td>\n",
       "      <td>12</td>\n",
       "    </tr>\n",
       "    <tr>\n",
       "      <th>1</th>\n",
       "      <td>634bbfec000000001802b71b</td>\n",
       "      <td>4</td>\n",
       "    </tr>\n",
       "    <tr>\n",
       "      <th>2</th>\n",
       "      <td>603b0e2700000000010015cd</td>\n",
       "      <td>3</td>\n",
       "    </tr>\n",
       "    <tr>\n",
       "      <th>3</th>\n",
       "      <td>5c5ed45800000000100005f1</td>\n",
       "      <td>3</td>\n",
       "    </tr>\n",
       "    <tr>\n",
       "      <th>4</th>\n",
       "      <td>5678e7ea4476082aec5da222</td>\n",
       "      <td>3</td>\n",
       "    </tr>\n",
       "    <tr>\n",
       "      <th>...</th>\n",
       "      <td>...</td>\n",
       "      <td>...</td>\n",
       "    </tr>\n",
       "    <tr>\n",
       "      <th>67</th>\n",
       "      <td>6652ea300000000007006a83</td>\n",
       "      <td>2</td>\n",
       "    </tr>\n",
       "    <tr>\n",
       "      <th>68</th>\n",
       "      <td>6655bab00000000003031db3</td>\n",
       "      <td>2</td>\n",
       "    </tr>\n",
       "    <tr>\n",
       "      <th>69</th>\n",
       "      <td>665ee3f70000000007005847</td>\n",
       "      <td>2</td>\n",
       "    </tr>\n",
       "    <tr>\n",
       "      <th>70</th>\n",
       "      <td>66695eee000000000700443e</td>\n",
       "      <td>2</td>\n",
       "    </tr>\n",
       "    <tr>\n",
       "      <th>71</th>\n",
       "      <td>6677d14300000000030315c5</td>\n",
       "      <td>2</td>\n",
       "    </tr>\n",
       "  </tbody>\n",
       "</table>\n",
       "<p>72 rows × 2 columns</p>\n",
       "</div>"
      ],
      "text/plain": [
       "                     user_id  count\n",
       "0   60e3ff1700000000200261e8     12\n",
       "1   634bbfec000000001802b71b      4\n",
       "2   603b0e2700000000010015cd      3\n",
       "3   5c5ed45800000000100005f1      3\n",
       "4   5678e7ea4476082aec5da222      3\n",
       "..                       ...    ...\n",
       "67  6652ea300000000007006a83      2\n",
       "68  6655bab00000000003031db3      2\n",
       "69  665ee3f70000000007005847      2\n",
       "70  66695eee000000000700443e      2\n",
       "71  6677d14300000000030315c5      2\n",
       "\n",
       "[72 rows x 2 columns]"
      ]
     },
     "execution_count": 27,
     "metadata": {},
     "output_type": "execute_result"
    }
   ],
   "source": [
    "#检查是否有多个用户留言\n",
    "col = ['user_id']\n",
    "\n",
    "# 重复值数量（被标记为重复的行数）\n",
    "dup_rows = data[col].duplicated().sum()\n",
    "print(f\"列 {col} 标记为重复的行数: {dup_rows}\")\n",
    "\n",
    "# 查看哪些具体的值出现了多次（以及出现次数）\n",
    "vc = data[col].value_counts()\n",
    "print('出现次数大于1的值及其次数：')\n",
    "\n",
    "df_duplicates = vc[vc > 1].reset_index()\n",
    "df_duplicates.columns = col + ['count'] \n",
    "df_duplicates\n",
    "\n",
    "\n",
    "#可以看到有一位用户有12个相关的评论，重复客户评论的次数多\n",
    "#重复评论用户: 1. 乐于在社交媒体进行评论 2. 笔记系统的爱好者 =》可以与此类用户进行定性分析，访谈能够有更好的收获"
   ]
  },
  {
   "cell_type": "code",
   "execution_count": 29,
   "id": "62390b10",
   "metadata": {},
   "outputs": [],
   "source": [
    "df_duplicates.to_excel('duplicate.xlsx',index=False)"
   ]
  },
  {
   "cell_type": "code",
   "execution_count": 31,
   "id": "d5f6d461",
   "metadata": {},
   "outputs": [
    {
     "name": "stdout",
     "output_type": "stream",
     "text": [
      "                      user_id  \\\n",
      "61   60e3ff1700000000200261e8   \n",
      "79   60e3ff1700000000200261e8   \n",
      "215  60e3ff1700000000200261e8   \n",
      "335  60e3ff1700000000200261e8   \n",
      "386  60e3ff1700000000200261e8   \n",
      "395  60e3ff1700000000200261e8   \n",
      "426  60e3ff1700000000200261e8   \n",
      "428  60e3ff1700000000200261e8   \n",
      "524  60e3ff1700000000200261e8   \n",
      "581  60e3ff1700000000200261e8   \n",
      "795  60e3ff1700000000200261e8   \n",
      "836  60e3ff1700000000200261e8   \n",
      "\n",
      "                                               content  \n",
      "61                                              感谢推荐嗷！  \n",
      "79                   宝感谢推荐呀，能不能加一下俺，给你送会员：shayujun1994  \n",
      "215                 赞[赞R]记录的越多 越能洞察到适合自己的 Tag 结构[萌萌哒R]  \n",
      "335                                         谢谢推荐鸭[飞吻R]  \n",
      "386                                     太好了，感谢推荐鸭[飞吻R]  \n",
      "395    哇哇哇，写得很棒！夺回情绪主动权这个概念很好～～另外我们最近的👸号更新里也有写怎么记录情绪日记  \n",
      "426                                    也太厉害了吧！之前居然看漏了！  \n",
      "428                 这么棒的分享，必须送个礼物感谢下！！！（可以单独戳戳我[暗中观察R]  \n",
      "524  感谢宝推荐！[飞吻R][飞吻R][飞吻R]记录真实的自己越多，Ai洞察就越窝心呀，让记录的意...  \n",
      "581          是哒！在flomo里记的真实的自己越多，就越有价值！感谢推荐！[飞吻R][飞吻R]  \n",
      "795                                       [赞R][赞R][赞R]  \n",
      "836  随手记录灵感 不需要解锁、不用打开 App，锁屏就能一键语音记录，转文字还特别准！ 🎁如何体...  \n"
     ]
    }
   ],
   "source": [
    "# 查看 user_id 为 '60e3ff1700000000200261e8' 的所有评论内容\n",
    "target_id = '60e3ff1700000000200261e8'\n",
    "user_comments = data[data['user_id'] == target_id][['user_id', 'content']]\n",
    "print(user_comments)\n",
    "\n",
    "#本以为有什么特别的发现，营销号之类的，原来是官号，好的可以删掉了lol，给忘记了"
   ]
  },
  {
   "cell_type": "code",
   "execution_count": 32,
   "id": "49ef907b",
   "metadata": {},
   "outputs": [],
   "source": [
    "# 删除user_id为官号的评论\n",
    "data = data[data[\"user_id\"] != \"60e3ff1700000000200261e8\"].reset_index(drop=True)"
   ]
  },
  {
   "cell_type": "code",
   "execution_count": 33,
   "id": "91dbff47",
   "metadata": {},
   "outputs": [
    {
     "data": {
      "text/plain": [
       "(892, 7)"
      ]
     },
     "execution_count": 33,
     "metadata": {},
     "output_type": "execute_result"
    }
   ],
   "source": [
    "data.shape"
   ]
  },
  {
   "cell_type": "code",
   "execution_count": null,
   "id": "31fdb301",
   "metadata": {},
   "outputs": [],
   "source": [
    "data.head()\n",
    "data.to_excel(\"output.xlsx\", index=False)"
   ]
  }
 ],
 "metadata": {
  "kernelspec": {
   "display_name": "base",
   "language": "python",
   "name": "python3"
  },
  "language_info": {
   "codemirror_mode": {
    "name": "ipython",
    "version": 3
   },
   "file_extension": ".py",
   "mimetype": "text/x-python",
   "name": "python",
   "nbconvert_exporter": "python",
   "pygments_lexer": "ipython3",
   "version": "3.12.4"
  }
 },
 "nbformat": 4,
 "nbformat_minor": 5
}
